{
 "cells": [
  {
   "cell_type": "code",
   "execution_count": 2,
   "id": "cab73f02",
   "metadata": {},
   "outputs": [
    {
     "name": "stdout",
     "output_type": "stream",
     "text": [
      "(1, 2, 3)\n"
     ]
    }
   ],
   "source": [
    "# Question 1\n",
    "class Point3D:\n",
    "    def __init__(self, x, y, z): \n",
    "        self.x = x\n",
    "        self.y = y\n",
    "        self.z = z\n",
    "    def method1(self):\n",
    "        return self.x, self.y, self.z\n",
    "\n",
    "my_point = Point3D(1, 2, 3)\n",
    "print(my_point.method1())"
   ]
  },
  {
   "cell_type": "code",
   "execution_count": 19,
   "id": "558a40df",
   "metadata": {},
   "outputs": [
    {
     "name": "stdout",
     "output_type": "stream",
     "text": [
      "12\n",
      "14\n"
     ]
    }
   ],
   "source": [
    "# Question 2\n",
    "class Rectangle:\n",
    "    def __init__(self, length, width):\n",
    "        self.length = length\n",
    "        self.width = width\n",
    "    def area(self):\n",
    "        return self.length*self.width\n",
    "    def perimeter(self):\n",
    "        return 2*(self.length+self.width)\n",
    "\n",
    "my_rectangle = Rectangle(4, 3)\n",
    "print(my_rectangle.area())\n",
    "print(my_rectangle.perimeter())"
   ]
  },
  {
   "cell_type": "code",
   "execution_count": 7,
   "id": "bb2c5f0f",
   "metadata": {},
   "outputs": [
    {
     "name": "stdout",
     "output_type": "stream",
     "text": [
      "380.1327110843649\n",
      "69.11503837897544\n",
      "This point belongs to my circle.\n"
     ]
    }
   ],
   "source": [
    "# Question 3\n",
    "class Circle:\n",
    "    def __init__(self, x_circle, y_circle, radius):\n",
    "        self.radius = radius\n",
    "        self.x_circle = x_circle\n",
    "        self.y_circle = y_circle\n",
    "    def area(self):\n",
    "        return 3.14*self.radius*self.radius\n",
    "    def perimeter(self):\n",
    "        return 3.14*self.radius*2\n",
    "    def isInside(self, x, y):\n",
    "        if  ((x - self.x_circle)**2 + (y - self.y_circle)**2 <= self.radius**2):\n",
    "            return True\n",
    "        else:\n",
    "            return False\n",
    "\n",
    "my_circle = Circle(-6, 3, 11)\n",
    "\n",
    "print(my_circle.area())\n",
    "print(my_circle.perimeter())\n",
    "\n",
    "if (my_circle.isInside(3, -3) == True):\n",
    "    print(\"This point belongs to my circle.\")\n",
    "else:\n",
    "    print(\"This point is outside my circle.\")"
   ]
  },
  {
   "cell_type": "code",
   "execution_count": 9,
   "id": "356dc77a",
   "metadata": {},
   "outputs": [
    {
     "name": "stdout",
     "output_type": "stream",
     "text": [
      "150\n",
      "70\n"
     ]
    }
   ],
   "source": [
    "# Question 4\n",
    "class Bank:\n",
    "    def __init__(self, balance): \n",
    "        self.balance = balance\n",
    "    \n",
    "    def deposit(self, deposit_amount):\n",
    "        return self.balance + deposit_amount\n",
    "    \n",
    "    def withdraw(self, withdraw_amount):\n",
    "        return self.balance - withdraw_amount\n",
    "\n",
    "my_account = Bank(100)\n",
    "print(my_account.deposit(50))\n",
    "print(my_account.withdraw(30))"
   ]
  }
 ],
 "metadata": {
  "kernelspec": {
   "display_name": "Python 3",
   "language": "python",
   "name": "python3"
  },
  "language_info": {
   "codemirror_mode": {
    "name": "ipython",
    "version": 3
   },
   "file_extension": ".py",
   "mimetype": "text/x-python",
   "name": "python",
   "nbconvert_exporter": "python",
   "pygments_lexer": "ipython3",
   "version": "3.8.8"
  }
 },
 "nbformat": 4,
 "nbformat_minor": 5
}
